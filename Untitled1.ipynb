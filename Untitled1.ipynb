{
 "cells": [
  {
   "cell_type": "code",
   "execution_count": 1,
   "metadata": {},
   "outputs": [],
   "source": [
    "import os\n",
    "import numpy as np\n",
    "import tensorflow as tf\n",
    "from tensorflow.keras.layers import Conv2D, BatchNormalization\n",
    "from Darknet53_model import Darknet53_yolo\n",
    "from Darknet53_model import Darknet53\n",
    "from Darknet53_model import DarkConv\n",
    "from IPython.core.display import display, HTML"
   ]
  },
  {
   "cell_type": "code",
   "execution_count": 2,
   "metadata": {},
   "outputs": [
    {
     "data": {
      "text/html": [
       "<style>.container { width:98% !important;}</style>"
      ],
      "text/plain": [
       "<IPython.core.display.HTML object>"
      ]
     },
     "metadata": {},
     "output_type": "display_data"
    }
   ],
   "source": [
    "os.environ[\"CUDA_VISIBLE_DEVICES\"] = \"12\"\n",
    "gpus = tf.config.experimental.list_physical_devices(\"GPU\")\n",
    "tf.config.experimental.set_memory_growth(gpus[0], True)\n",
    "display(HTML(\"<style>.container { width:98% !important;}</style>\"))"
   ]
  },
  {
   "cell_type": "code",
   "execution_count": 3,
   "metadata": {},
   "outputs": [],
   "source": [
    "start_model = tf.keras.layers.Input(shape=(416, 416, 3))\n",
    "Darknet_yolo = Darknet53_yolo()\n",
    "conv_output_1, conv_output_2, conv_output_3 = Darknet_yolo(start_model)\n",
    "#conv_output_1, conv_output_2, conv_output_3 = base_conv.output"
   ]
  },
  {
   "cell_type": "code",
   "execution_count": 4,
   "metadata": {},
   "outputs": [],
   "source": [
    "def yolo_block(inputs, filters, name):\n",
    "    layer_idx = iter(range(1, 7))\n",
    "    inputs = DarkConv(inputs, filters, kernel_size=1, layer_idx=next(layer_idx), name=name)\n",
    "    inputs = DarkConv(inputs, filters*2, kernel_size=3, layer_idx=next(layer_idx), name=name)\n",
    "    inputs = DarkConv(inputs, filters, kernel_size=1, layer_idx=next(layer_idx), name=name)\n",
    "    inputs = DarkConv(inputs, filters*2, kernel_size=3, layer_idx=next(layer_idx), name=name)\n",
    "    inputs = DarkConv(inputs, filters, kernel_size=1, layer_idx=next(layer_idx), name=name)\n",
    "    route = inputs \n",
    "    inputs = DarkConv(inputs, filters*2, kernel_size=3, layer_idx=next(layer_idx), name=name)\n",
    "    return route, inputs "
   ]
  },
  {
   "cell_type": "code",
   "execution_count": 5,
   "metadata": {},
   "outputs": [],
   "source": [
    "def upsample(inputs, output_shape):\n",
    "    inputs = tf.image.resize(inputs, output_shape)\n",
    "    inputs = tf.identity(inputs, \"upsampled\")\n",
    "    return inputs"
   ]
  },
  {
   "cell_type": "code",
   "execution_count": 6,
   "metadata": {},
   "outputs": [
    {
     "name": "stdout",
     "output_type": "stream",
     "text": [
      "(None, 52, 52, 256)\n",
      "(None, 26, 26, 512)\n",
      "(None, 13, 13, 1024)\n"
     ]
    }
   ],
   "source": [
    "print(conv_output_1.get_shape())\n",
    "print(conv_output_2.get_shape())\n",
    "print(conv_output_3.get_shape())"
   ]
  },
  {
   "cell_type": "code",
   "execution_count": 7,
   "metadata": {},
   "outputs": [],
   "source": [
    "start = tf.keras.layers.Input(shape=(13, 13, 1024), name=\"yolo_block1_Input\")\n",
    "route, inputs = yolo_block(start, 512, name=\"yolo_block_1\")\n",
    "detect = Conv2D(filters=3 * (5+80), kernel_size=1, strides=1, name=\"yolo_block_1_output_Conv\")(inputs)\n",
    "yolo_block_1_model = tf.keras.Model(inputs=start, outputs=[route, detect], name=\"yolo_block_1\")"
   ]
  },
  {
   "cell_type": "code",
   "execution_count": 8,
   "metadata": {},
   "outputs": [],
   "source": [
    "start1 = tf.keras.layers.Input(shape=(13, 13, 512), name=\"yolo_block2_Input\")\n",
    "route = DarkConv(start1, filters=256, kernel_size=1, strides=(1, 1), padding=\"SAME\", layer_idx=0, name=\"yolo_block_2\")\n",
    "route = upsample(route, (26, 26))\n",
    "start2 = tf.keras.layers.Input(shape=(26, 26, 512))\n",
    "inputs = tf.concat([route, start2], axis=3)\n",
    "route, inputs = yolo_block(inputs, 256, name=\"yolo_block_2\")\n",
    "detect = Conv2D(filters=3 * (5+80), kernel_size=1, strides=1, name=\"yolo_block_2_output_Conv\")(inputs)\n",
    "yolo_block_2_model = tf.keras.Model(inputs=[start1, start2], outputs=[route, detect], name=\"yolo_block_2\")"
   ]
  },
  {
   "cell_type": "code",
   "execution_count": 9,
   "metadata": {},
   "outputs": [],
   "source": [
    "start1 = tf.keras.layers.Input(shape=(26, 26, 256), name=\"yolo_block_3_Input\")\n",
    "route = DarkConv(start1, filters=128, kernel_size=1, strides=(1, 1), padding=\"SAME\", layer_idx=0, name=\"yolo_block_3\")\n",
    "route = upsample(route, (52, 52))\n",
    "start2 = tf.keras.layers.Input(shape=(52, 52, 256))\n",
    "inputs = tf.concat([route, start2], axis=3)\n",
    "route, inputs = yolo_block(inputs, 128, name=\"yolo_block_3\")\n",
    "detect = Conv2D(filters=3 * (5+80), kernel_size=1, strides=1, name=\"yolo_block_3_output_Conv\")(inputs)\n",
    "yolo_block_3_model = tf.keras.Model(inputs=[start1, start2], outputs=[detect], name=\"yolob_lock_3\")"
   ]
  },
  {
   "cell_type": "code",
   "execution_count": 10,
   "metadata": {},
   "outputs": [],
   "source": [
    "route, detect_1 = yolo_block_1_model(conv_output_3)\n",
    "route, detect_2 = yolo_block_2_model([route, conv_output_2])\n",
    "detect_3 = yolo_block_3_model([route, conv_output_1])"
   ]
  },
  {
   "cell_type": "code",
   "execution_count": 11,
   "metadata": {},
   "outputs": [],
   "source": [
    "yolo_model = tf.keras.Model(start_model, [detect_1, detect_2, detect_3])"
   ]
  },
  {
   "cell_type": "code",
   "execution_count": 12,
   "metadata": {},
   "outputs": [
    {
     "name": "stdout",
     "output_type": "stream",
     "text": [
      "Model: \"model\"\n",
      "__________________________________________________________________________________________________\n",
      "Layer (type)                    Output Shape         Param #     Connected to                     \n",
      "==================================================================================================\n",
      "input_1 (InputLayer)            [(None, 416, 416, 3) 0                                            \n",
      "__________________________________________________________________________________________________\n",
      "Darknet_yolo (Model)            [(None, 52, 52, 256) 40620640    input_1[0][0]                    \n",
      "__________________________________________________________________________________________________\n",
      "yolo_block_1 (Model)            [(None, 13, 13, 512) 16008447    Darknet_yolo[1][2]               \n",
      "__________________________________________________________________________________________________\n",
      "yolo_block_2 (Model)            [(None, 26, 26, 256) 4269823     yolo_block_1[1][0]               \n",
      "                                                                 Darknet_yolo[1][1]               \n",
      "__________________________________________________________________________________________________\n",
      "yolob_lock_3 (Model)            (None, 52, 52, 255)  1102847     yolo_block_2[1][0]               \n",
      "                                                                 Darknet_yolo[1][0]               \n",
      "==================================================================================================\n",
      "Total params: 62,001,757\n",
      "Trainable params: 61,949,149\n",
      "Non-trainable params: 52,608\n",
      "__________________________________________________________________________________________________\n"
     ]
    }
   ],
   "source": [
    "yolo_model.summary()"
   ]
  },
  {
   "cell_type": "code",
   "execution_count": 13,
   "metadata": {},
   "outputs": [],
   "source": [
    "def load_weights(weights_file, model):\n",
    "    global ptr\n",
    "    \n",
    "    with open(weights_file, \"rb\") as fp:\n",
    "        _ = np.fromfile(fp, dtype=np.int32, count=5)\n",
    "        weights = np.fromfile(fp, dtype=np.float32)\n",
    "    i = 0\n",
    "    while i < len(model.variables) - 1:\n",
    "        var1 = model.variables[i]\n",
    "        var2 = model.variables[i+1]\n",
    "        if \"Conv\" in var1.name:\n",
    "            #print(var1.name.split('/')[-2])\n",
    "            if \"BN\" in var2.name:\n",
    "                gamma, beta, mean, var = model.variables[i+1: i+5]\n",
    "                batch_norm_vars = [beta, gamma, mean, var]\n",
    "                for var in batch_norm_vars:\n",
    "                    shape = var.shape.as_list()\n",
    "                    num_params = np.prod(shape)\n",
    "                    var_weights = weights[ptr:ptr + num_params].reshape(shape)\n",
    "                    ptr += num_params\n",
    "                    var.assign(var_weights)\n",
    "                i += 4   \n",
    "                \n",
    "            elif \"Conv\" in var2.name:\n",
    "                #print(var2.name.split('/'))\n",
    "                bias = var2\n",
    "                bias_shape = bias.shape.as_list()\n",
    "                bias_params = np.prod(bias_shape)\n",
    "                bias_weights = weights[ptr:ptr+bias_params].reshape(bias_shape)\n",
    "                ptr += bias_params\n",
    "                bias.assign(bias_weights)\n",
    "                print(\"aaaaa\")\n",
    "                i += 1    \n",
    "            \n",
    "            \n",
    "            shape = var1.shape.as_list()\n",
    "            num_params = np.prod(shape)\n",
    "            var_weights = weights[ptr:ptr+num_params].reshape((shape[3], shape[2], shape[0], shape[1]))\n",
    "            var_weights = np.transpose(var_weights, (2, 3, 1, 0))\n",
    "            ptr += num_params\n",
    "            var1.assign(var_weights)\n",
    "            i += 1"
   ]
  },
  {
   "cell_type": "code",
   "execution_count": 14,
   "metadata": {},
   "outputs": [],
   "source": [
    "weights_file = \"weights/yolov3.weights\""
   ]
  },
  {
   "cell_type": "code",
   "execution_count": 15,
   "metadata": {},
   "outputs": [
    {
     "name": "stdout",
     "output_type": "stream",
     "text": [
      "aaaaa\n",
      "aaaaa\n",
      "aaaaa\n"
     ]
    }
   ],
   "source": [
    "ptr = 0\n",
    "load_weights(weights_file, Darknet_yolo)\n",
    "load_weights(weights_file, yolo_block_1_model)\n",
    "load_weights(weights_file, yolo_block_2_model)\n",
    "load_weights(weights_file, yolo_block_3_model)"
   ]
  },
  {
   "cell_type": "code",
   "execution_count": 16,
   "metadata": {},
   "outputs": [
    {
     "data": {
      "text/plain": [
       "366"
      ]
     },
     "execution_count": 16,
     "metadata": {},
     "output_type": "execute_result"
    }
   ],
   "source": [
    "len(yolo_model.variables)"
   ]
  },
  {
   "cell_type": "code",
   "execution_count": 26,
   "metadata": {},
   "outputs": [
    {
     "data": {
      "text/plain": [
       "62001757"
      ]
     },
     "execution_count": 26,
     "metadata": {},
     "output_type": "execute_result"
    }
   ],
   "source": [
    "ptr"
   ]
  },
  {
   "cell_type": "code",
   "execution_count": 43,
   "metadata": {},
   "outputs": [
    {
     "data": {
      "text/plain": [
       "<tf.Variable 'yolo_block_1_output_Conv/kernel:0' shape=(1, 1, 1024, 255) dtype=float32, numpy=\n",
       "array([[[[-9.0861315e-04,  4.9089165e-03,  9.3218603e-04, ...,\n",
       "          -4.4940081e-03, -1.6118258e-02, -6.7797482e-02],\n",
       "         [-1.8232724e-03,  1.5031424e-03, -2.2538667e-04, ...,\n",
       "          -2.4490457e-02, -3.6650021e-02, -3.9674088e-02],\n",
       "         [-2.1454440e-03,  2.9069816e-03,  1.3073847e-03, ...,\n",
       "          -4.0219106e-02,  1.1468207e-02, -3.2419767e-03],\n",
       "         ...,\n",
       "         [ 2.1249698e-03, -6.2484848e-03, -6.8136098e-05, ...,\n",
       "           6.3906692e-02, -1.1326012e-02,  4.9663093e-02],\n",
       "         [ 2.4048148e-03,  4.0009767e-02,  9.0027184e-05, ...,\n",
       "           7.2940090e-04,  4.5666918e-03, -6.5613356e-03],\n",
       "         [-2.8802771e-03,  9.3505075e-03, -1.1242160e-03, ...,\n",
       "           3.3217091e-02,  1.2501448e-03,  4.1799932e-03]]]],\n",
       "      dtype=float32)>"
      ]
     },
     "execution_count": 43,
     "metadata": {},
     "output_type": "execute_result"
    }
   ],
   "source": [
    "yolo_model.variables[290]"
   ]
  },
  {
   "cell_type": "code",
   "execution_count": null,
   "metadata": {},
   "outputs": [],
   "source": []
  }
 ],
 "metadata": {
  "kernelspec": {
   "display_name": "Python 3",
   "language": "python",
   "name": "python3"
  },
  "language_info": {
   "codemirror_mode": {
    "name": "ipython",
    "version": 3
   },
   "file_extension": ".py",
   "mimetype": "text/x-python",
   "name": "python",
   "nbconvert_exporter": "python",
   "pygments_lexer": "ipython3",
   "version": "3.7.6"
  }
 },
 "nbformat": 4,
 "nbformat_minor": 2
}
