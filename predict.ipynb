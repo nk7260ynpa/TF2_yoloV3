{
 "cells": [
  {
   "cell_type": "code",
   "execution_count": 1,
   "metadata": {},
   "outputs": [],
   "source": [
    "import os\n",
    "import json\n",
    "import numpy as np\n",
    "import pandas as pd\n",
    "import matplotlib.pyplot as plt\n",
    "import tensorflow as tf\n",
    "from tensorflow.keras.layers import Conv2D, Dense, BatchNormalization\n",
    "from model import yolov3\n",
    "from IPython.core.display import display, HTML\n",
    "from utils import *\n",
    "from PIL import ImageDraw, Image"
   ]
  },
  {
   "cell_type": "code",
   "execution_count": 2,
   "metadata": {},
   "outputs": [
    {
     "data": {
      "text/html": [
       "<style>.container { width:98% !important;}</style>"
      ],
      "text/plain": [
       "<IPython.core.display.HTML object>"
      ]
     },
     "metadata": {},
     "output_type": "display_data"
    }
   ],
   "source": [
    "os.environ[\"CUDA_VISIBLE_DEVICES\"] = \"9\"\n",
    "gpus = tf.config.experimental.list_physical_devices(\"GPU\")\n",
    "tf.config.experimental.set_memory_growth(gpus[0], True)\n",
    "display(HTML(\"<style>.container { width:98% !important;}</style>\"))"
   ]
  },
  {
   "cell_type": "code",
   "execution_count": 3,
   "metadata": {},
   "outputs": [],
   "source": [
    "# load image\n",
    "img = Image.open(\"/raid/peterchen/Project/Object_Detection_v2/predict/tim.jpg\")\n",
    "img_resized = img.resize(size=(416, 416))\n",
    "img_resized = np.array(img_resized, dtype=np.float32)\n",
    "img_resized = tf.expand_dims(tf.constant(img_resized)/255., axis=0)"
   ]
  },
  {
   "cell_type": "raw",
   "metadata": {},
   "source": [
    "# load image\n",
    "img = tf.io.read_file(\"tim.jpg\")\n",
    "img = tf.image.decode_jpeg(img)\n",
    "img = tf.image.resize(img, (416, 416))\n",
    "img /= 255.\n",
    "img = tf.expand_dims(img, axis=0)"
   ]
  },
  {
   "cell_type": "code",
   "execution_count": 4,
   "metadata": {},
   "outputs": [],
   "source": [
    "# Build Model\n",
    "yolov3_model = yolov3.model()\n",
    "yolov3.load_weights(\"weights/yolov3.weights\", yolov3_model)"
   ]
  },
  {
   "cell_type": "code",
   "execution_count": 5,
   "metadata": {},
   "outputs": [],
   "source": [
    "model_output_1, model_output_2, model_output_3 = yolov3_model(img_resized)"
   ]
  },
  {
   "cell_type": "code",
   "execution_count": 6,
   "metadata": {},
   "outputs": [
    {
     "name": "stdout",
     "output_type": "stream",
     "text": [
      "(1, 13, 13, 255)\n",
      "(1, 26, 26, 255)\n",
      "(1, 52, 52, 255)\n"
     ]
    }
   ],
   "source": [
    "print(model_output_1.shape)\n",
    "print(model_output_2.shape)\n",
    "print(model_output_3.shape)"
   ]
  },
  {
   "cell_type": "code",
   "execution_count": 7,
   "metadata": {},
   "outputs": [],
   "source": [
    "ANCHORS = [(10, 13), (16, 30), (33, 23), (30, 61), (62, 45), (59, 119), (116, 90), (159, 198), (373, 326)]"
   ]
  },
  {
   "cell_type": "code",
   "execution_count": 8,
   "metadata": {},
   "outputs": [],
   "source": [
    "predictions_1 = post_process(model_output_1, (416, 416), ANCHORS[6:9], num_classes=80)\n",
    "predictions_2 = post_process(model_output_2, (416, 416), ANCHORS[3:6], num_classes=80)\n",
    "predictions_3 = post_process(model_output_3, (416, 416), ANCHORS[0:3], num_classes=80)"
   ]
  },
  {
   "cell_type": "code",
   "execution_count": 9,
   "metadata": {},
   "outputs": [
    {
     "name": "stdout",
     "output_type": "stream",
     "text": [
      "(1, 507, 85)\n",
      "(1, 2028, 85)\n",
      "(1, 8112, 85)\n"
     ]
    }
   ],
   "source": [
    "print(predictions_1.shape)\n",
    "print(predictions_2.shape)\n",
    "print(predictions_3.shape)"
   ]
  },
  {
   "cell_type": "code",
   "execution_count": 10,
   "metadata": {},
   "outputs": [],
   "source": [
    "detections = tf.concat([predictions_1, predictions_2, predictions_3], axis=1)"
   ]
  },
  {
   "cell_type": "code",
   "execution_count": 11,
   "metadata": {},
   "outputs": [],
   "source": [
    "boxes = center_to_minmax(detections)"
   ]
  },
  {
   "cell_type": "code",
   "execution_count": 12,
   "metadata": {},
   "outputs": [],
   "source": [
    "conf_threshold = 0.5\n",
    "iou_threshold = 0.4\n",
    "class_names = \"coco.names\""
   ]
  },
  {
   "cell_type": "code",
   "execution_count": 13,
   "metadata": {},
   "outputs": [
    {
     "name": "stdout",
     "output_type": "stream",
     "text": [
      "shape1 (10647, 85)\n",
      "shape2 (13, 85)\n"
     ]
    }
   ],
   "source": [
    "filtered_boxes = non_max_suppression(boxes, confidence_threshold=conf_threshold, iou_threshold=iou_threshold)"
   ]
  },
  {
   "cell_type": "code",
   "execution_count": 14,
   "metadata": {},
   "outputs": [],
   "source": [
    "classes = load_coco_names(class_names)"
   ]
  },
  {
   "cell_type": "code",
   "execution_count": 15,
   "metadata": {},
   "outputs": [
    {
     "name": "stdout",
     "output_type": "stream",
     "text": [
      "person\n",
      " 99.98% [270.6526301457332, 35.95089252178485]\n",
      "person\n",
      " 99.94% [423.85929987980774, 52.04748300405649]\n",
      "sofa\n",
      " 64.87% [578.8946063701924, 216.68053260216345]\n",
      "chair\n",
      " 95.51% [101.7606177696815, 266.3038400503305]\n",
      "chair\n",
      " 84.06% [423.7697190504808, 259.4697805551382]\n",
      "chair\n",
      " 84.06% [342.87135197566107, 305.1655813363882]\n",
      "remote\n",
      " 51.65% [327.5783362755409, 155.38773756760816]\n"
     ]
    }
   ],
   "source": [
    "draw_boxes(filtered_boxes, img, classes, (416, 416))"
   ]
  },
  {
   "cell_type": "code",
   "execution_count": 16,
   "metadata": {},
   "outputs": [],
   "source": [
    "img.save(\"aaa.jpg\")"
   ]
  },
  {
   "cell_type": "code",
   "execution_count": null,
   "metadata": {},
   "outputs": [],
   "source": []
  }
 ],
 "metadata": {
  "kernelspec": {
   "display_name": "Python 3",
   "language": "python",
   "name": "python3"
  },
  "language_info": {
   "codemirror_mode": {
    "name": "ipython",
    "version": 3
   },
   "file_extension": ".py",
   "mimetype": "text/x-python",
   "name": "python",
   "nbconvert_exporter": "python",
   "pygments_lexer": "ipython3",
   "version": "3.7.6"
  }
 },
 "nbformat": 4,
 "nbformat_minor": 2
}
