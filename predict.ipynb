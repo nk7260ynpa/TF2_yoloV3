{
 "cells": [
  {
   "cell_type": "code",
   "execution_count": 1,
   "metadata": {},
   "outputs": [],
   "source": [
    "import os\n",
    "import json\n",
    "import numpy as np\n",
    "import pandas as pd\n",
    "import matplotlib.pyplot as plt\n",
    "import tensorflow as tf\n",
    "from tensorflow.keras.layers import Conv2D, Dense, BatchNormalization\n",
    "from model import yolov3\n",
    "from IPython.core.display import display, HTML"
   ]
  },
  {
   "cell_type": "code",
   "execution_count": 2,
   "metadata": {},
   "outputs": [
    {
     "data": {
      "text/html": [
       "<style>.container { width:98% !important;}</style>"
      ],
      "text/plain": [
       "<IPython.core.display.HTML object>"
      ]
     },
     "metadata": {},
     "output_type": "display_data"
    }
   ],
   "source": [
    "os.environ[\"CUDA_VISIBLE_DEVICES\"] = \"9\"\n",
    "gpus = tf.config.experimental.list_physical_devices(\"GPU\")\n",
    "tf.config.experimental.set_memory_growth(gpus[0], True)\n",
    "display(HTML(\"<style>.container { width:98% !important;}</style>\"))"
   ]
  },
  {
   "cell_type": "code",
   "execution_count": 3,
   "metadata": {},
   "outputs": [],
   "source": [
    "# load image\n",
    "img = tf.io.read_file(\"tim.jpg\")\n",
    "img = tf.image.decode_jpeg(img)\n",
    "img = tf.image.resize(img, (416, 416))\n",
    "img /= 255.\n",
    "img = tf.expand_dims(img, axis=0)"
   ]
  },
  {
   "cell_type": "code",
   "execution_count": 4,
   "metadata": {},
   "outputs": [],
   "source": [
    "# Build Model\n",
    "yolov3_model = yolov3.model()\n",
    "yolov3.load_weights(\"weights/yolov3.weights\", yolov3_model)"
   ]
  },
  {
   "cell_type": "code",
   "execution_count": 5,
   "metadata": {},
   "outputs": [],
   "source": [
    "model_output_1, model_output_2, model_output_3 = yolov3_model(img)"
   ]
  },
  {
   "cell_type": "code",
   "execution_count": 6,
   "metadata": {},
   "outputs": [
    {
     "name": "stdout",
     "output_type": "stream",
     "text": [
      "(1, 13, 13, 255)\n",
      "(1, 26, 26, 255)\n",
      "(1, 52, 52, 255)\n"
     ]
    }
   ],
   "source": [
    "print(model_output_1.shape)\n",
    "print(model_output_2.shape)\n",
    "print(model_output_3.shape)"
   ]
  },
  {
   "cell_type": "code",
   "execution_count": 7,
   "metadata": {},
   "outputs": [],
   "source": [
    "ANCHORS = [(10, 13), (16, 30), (33, 23), (30, 61), (62, 45), (59, 119), (116, 90), (159, 198), (373, 326)]"
   ]
  },
  {
   "cell_type": "code",
   "execution_count": 8,
   "metadata": {},
   "outputs": [],
   "source": [
    "def post_process(model_output, img_size, anchors, num_classes):\n",
    "    num_anchors = len(anchors)\n",
    "    shape = model_output.shape.as_list()\n",
    "    grid_size = shape[1:3]\n",
    "    dim = grid_size[0] * grid_size[1]\n",
    "    bbox_attrs = 5 + num_classes\n",
    "    predictions = tf.reshape(model_output, [-1, num_anchors * dim, bbox_attrs])\n",
    "    stride = (img_size[0] // grid_size[0], img_size[1] // grid_size[1])\n",
    "    anchors = [(a[0] / stride[0], a[1] / stride[1]) for a in anchors]\n",
    "    \n",
    "    box_centers, box_sizes, confidence, classes = tf.split(predictions, [2, 2, 1, num_classes], axis=-1)\n",
    "    \n",
    "    box_centers = tf.nn.sigmoid(box_centers)\n",
    "    grid_x = tf.range(grid_size[0], dtype=tf.float32)\n",
    "    grid_y = tf.range(grid_size[1], dtype=tf.float32)\n",
    "    a, b = tf.meshgrid(grid_x, grid_y)\n",
    "    x_offset = tf.reshape(a, (-1, 1))\n",
    "    y_offset = tf.reshape(b, (-1, 1))\n",
    "    x_y_offset = tf.concat([x_offset, y_offset], axis=-1)\n",
    "    x_y_offset = tf.reshape(tf.tile(x_y_offset, [1, num_anchors]), [1, -1, 2])\n",
    "    box_centers = box_centers + x_y_offset\n",
    "    box_centers = box_centers * stride\n",
    "    \n",
    "    anchors = tf.tile(anchors, [dim, 1])\n",
    "    box_sizes = tf.exp(anchors) * box_sizes\n",
    "    box_sizes = box_sizes * stride\n",
    "    \n",
    "    confidence = tf.nn.sigmoid(confidence)\n",
    "    \n",
    "    detections = tf.concat([box_centers, box_sizes, confidence], axis=-1)\n",
    "    \n",
    "    classes = tf.nn.sigmoid(classes)\n",
    "    \n",
    "    predictions = tf.concat([detections, classes], axis=-1)\n",
    "    return predictions"
   ]
  },
  {
   "cell_type": "code",
   "execution_count": 9,
   "metadata": {},
   "outputs": [],
   "source": [
    "predictions_1 = post_process(model_output_1, (416, 416), ANCHORS[6:9], num_classes=80)\n",
    "predictions_2 = post_process(model_output_2, (416, 416), ANCHORS[3:6], num_classes=80)\n",
    "predictions_3 = post_process(model_output_3, (416, 416), ANCHORS[0:3], num_classes=80)"
   ]
  },
  {
   "cell_type": "code",
   "execution_count": 10,
   "metadata": {},
   "outputs": [
    {
     "name": "stdout",
     "output_type": "stream",
     "text": [
      "(1, 507, 85)\n",
      "(1, 2028, 85)\n",
      "(1, 8112, 85)\n"
     ]
    }
   ],
   "source": [
    "print(predictions_1.shape)\n",
    "print(predictions_2.shape)\n",
    "print(predictions_3.shape)"
   ]
  },
  {
   "cell_type": "code",
   "execution_count": 11,
   "metadata": {},
   "outputs": [],
   "source": [
    "detections = tf.concat([predictions_1, predictions_2, predictions_3], axis=1)"
   ]
  },
  {
   "cell_type": "code",
   "execution_count": 12,
   "metadata": {},
   "outputs": [],
   "source": [
    "def center_to_minmax(detections):\n",
    "    center_x, center_y, width, height, attrs = tf.split(detections, [1, 1, 1, 1, -1], axis=-1)\n",
    "    w2 = width / 2\n",
    "    h2 = height / 2\n",
    "    x0 = center_x - w2\n",
    "    y0 = center_y - h2\n",
    "    x1 = center_x + w2\n",
    "    y1 = center_y + h2\n",
    "    \n",
    "    boxes = tf.concat([x0, y0, x1, y1], axis=-1)\n",
    "    detections = tf.concat([boxes, attrs], axis=-1)\n",
    "    return detections"
   ]
  },
  {
   "cell_type": "code",
   "execution_count": 13,
   "metadata": {},
   "outputs": [],
   "source": [
    "box = center_to_minmax(detections)"
   ]
  },
  {
   "cell_type": "code",
   "execution_count": 14,
   "metadata": {},
   "outputs": [],
   "source": [
    "def iou(box1, box2):\n",
    "    b1_x0, b1_y0, b1_x1, b1_y1 = box1\n",
    "    b2_x0, b2_y0, b2_x1, b2_y1 = box2\n",
    "    \n",
    "    int_x0 = max(b1_x0, b2_x0)\n",
    "    int_y0 = max(b1_y0, b2_y0)\n",
    "    int_x1 = min(b1_x1, b2_x2)\n",
    "    int_y1 = min(b1_y1, b2_y2)\n",
    "    \n",
    "    if (int_x0 > int_x1) or (int_y0 > int_y1):\n",
    "        return 0.\n",
    "    \n",
    "    int_area = (int_x1 - int_x0) * (int_y1 - int_y0)\n",
    "    \n",
    "    box1_area = (b1_x1 - b1_x0) * (b1_y1 - b1_y0)\n",
    "    box2_area = (b2_x1 - b2_x0) * (b2_y1 - b2_y0)\n",
    "    \n",
    "    iou = int_area / (b1_area + b2_area - int_area + 1e-5)\n",
    "    return iou\n",
    "    "
   ]
  },
  {
   "cell_type": "code",
   "execution_count": 15,
   "metadata": {},
   "outputs": [],
   "source": [
    "conf_mask = np.expand_dims((box.numpy()[:,:,4]> 0.5), -1)"
   ]
  },
  {
   "cell_type": "code",
   "execution_count": 16,
   "metadata": {},
   "outputs": [],
   "source": [
    "predictions = box.numpy() * conf_mask"
   ]
  },
  {
   "cell_type": "code",
   "execution_count": null,
   "metadata": {},
   "outputs": [],
   "source": [
    "def non_max_suppression(predictions_with_boxes, confidence_threshold, iou_threshhold=0.4):\n",
    "    conf_mask = np.expand_dims((predictions_with_boxes.numpy()[:,:,4] > confidence_threshold), -1)\n",
    "    predictions = predictions_with_boxes.numpy() * conf_mask\n",
    "    \n",
    "    result = {}"
   ]
  },
  {
   "cell_type": "code",
   "execution_count": null,
   "metadata": {},
   "outputs": [],
   "source": []
  },
  {
   "cell_type": "code",
   "execution_count": null,
   "metadata": {},
   "outputs": [],
   "source": []
  },
  {
   "cell_type": "code",
   "execution_count": null,
   "metadata": {},
   "outputs": [],
   "source": []
  }
 ],
 "metadata": {
  "kernelspec": {
   "display_name": "Python 3",
   "language": "python",
   "name": "python3"
  },
  "language_info": {
   "codemirror_mode": {
    "name": "ipython",
    "version": 3
   },
   "file_extension": ".py",
   "mimetype": "text/x-python",
   "name": "python",
   "nbconvert_exporter": "python",
   "pygments_lexer": "ipython3",
   "version": "3.7.6"
  }
 },
 "nbformat": 4,
 "nbformat_minor": 2
}
