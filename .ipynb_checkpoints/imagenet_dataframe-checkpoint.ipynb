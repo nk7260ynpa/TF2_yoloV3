{
 "cells": [
  {
   "cell_type": "code",
   "execution_count": 1,
   "metadata": {},
   "outputs": [],
   "source": [
    "import os\n",
    "import json\n",
    "import pathlib\n",
    "import numpy as np\n",
    "import pandas as pd\n",
    "import matplotlib.pyplot as plt\n",
    "import tensorflow as tf\n",
    "from IPython.core.display import display, HTML\n",
    "import PIL"
   ]
  },
  {
   "cell_type": "code",
   "execution_count": 69,
   "metadata": {},
   "outputs": [],
   "source": [
    "class imagenet_info():\n",
    "    def __init__(self, map_index_path, val_label_path):\n",
    "        self.map_index_path = map_index_path\n",
    "        self.val_label_path = val_label_path\n",
    "        self.df = self._df_generator()\n",
    "        self.val_label = self._valid_label_generator()\n",
    "        self.index_to_net_label = dict(zip(self.df[\"index\"], self.df[\"net_label\"]))\n",
    "        self.label_to_net_label = dict(zip(self.val_label[\"label\"], self.val_label[\"net_label\"]))\n",
    "    \n",
    "    def _df_generator(self):\n",
    "        with open(self.map_index_path) as f:\n",
    "            map_index = f.readlines()\n",
    "        df = pd.DataFrame(map_index, columns=[\"all_label\"])\n",
    "        df[\"index\"] = df.all_label.str.split(\" \").str.get(0)\n",
    "        df[\"label\"] = df.all_label.str.split(\" \").str.get(1).astype(np.int32)\n",
    "        df[\"name\"] = df.all_label.str.split(\" \").str.get(2).str.strip(\"\\n\")\n",
    "        df[\"net_label\"] = df[\"label\"] - 1\n",
    "        df = df.drop(\"all_label\", axis=1)\n",
    "        df = df[[\"net_label\", \"label\", \"index\", \"name\"]]\n",
    "        return df\n",
    "    \n",
    "    def _valid_label_generator(self):\n",
    "        with open(self.val_label_path) as f:\n",
    "            val_label = f.readlines()\n",
    "        val_label_df = pd.DataFrame(val_label, columns=[\"label\"])\n",
    "        val_label_df[\"label\"] = val_label_df[\"label\"].str.strip(\"\\n\").astype(np.int32)\n",
    "        image_num = [i for i in range(1, 50001)]\n",
    "        val_label_df[\"image_num\"] = image_num\n",
    "        val_label_df = val_label_df.merge(self.df, left_on='label', right_on='label')\n",
    "        val_label_df = val_label_df.sort_values(\"image_num\")\n",
    "        val_label_df = val_label_df.reset_index(drop=True)\n",
    "        val_label_df = val_label_df[[\"image_num\", \"net_label\", \"label\", \"index\", \"name\"]]\n",
    "        return val_label_df \n",
    "    \n",
    "    def index_to_net_label(self):\n",
    "        index_to_net_label = dict(zip(self.df[\"index\"], self.df[\"net_label\"]))"
   ]
  },
  {
   "cell_type": "code",
   "execution_count": 70,
   "metadata": {},
   "outputs": [],
   "source": [
    "map_index = \"map_clsloc.txt\"\n",
    "val_label_path = \"ILSVRC2012_validation_ground_truth.txt\""
   ]
  },
  {
   "cell_type": "code",
   "execution_count": 71,
   "metadata": {},
   "outputs": [],
   "source": [
    "imgnet_info = imagenet_info(map_index, val_label_path)"
   ]
  }
 ],
 "metadata": {
  "kernelspec": {
   "display_name": "Python 3",
   "language": "python",
   "name": "python3"
  },
  "language_info": {
   "codemirror_mode": {
    "name": "ipython",
    "version": 3
   },
   "file_extension": ".py",
   "mimetype": "text/x-python",
   "name": "python",
   "nbconvert_exporter": "python",
   "pygments_lexer": "ipython3",
   "version": "3.7.6"
  }
 },
 "nbformat": 4,
 "nbformat_minor": 2
}
