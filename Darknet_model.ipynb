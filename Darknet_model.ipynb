{
 "cells": [
  {
   "cell_type": "code",
   "execution_count": 1,
   "metadata": {},
   "outputs": [],
   "source": [
    "import os\n",
    "import json\n",
    "import pathlib\n",
    "import numpy as np\n",
    "import pandas as pd\n",
    "import matplotlib.pyplot as plt\n",
    "import tensorflow as tf\n",
    "from tensorflow.keras.layers import Conv2D, BatchNormalization, LeakyReLU\n",
    "from IPython.core.display import display, HTML\n",
    "from imagenet_info import imagenet_info\n",
    "from imagenet import imagenet_info, imagenet_train, imagenet_valid\n",
    "import datetime"
   ]
  },
  {
   "cell_type": "code",
   "execution_count": 2,
   "metadata": {},
   "outputs": [
    {
     "data": {
      "text/html": [
       "<style>.container { width:98% !important;}</style>"
      ],
      "text/plain": [
       "<IPython.core.display.HTML object>"
      ]
     },
     "metadata": {},
     "output_type": "display_data"
    }
   ],
   "source": [
    "os.environ[\"CUDA_VISIBLE_DIVICES\"] = \"14\"\n",
    "gpus = tf.config.experimental.list_physical_devices(\"GPU\")\n",
    "tf.config.experimental.set_memory_growth(gpus[0], True)\n",
    "display(HTML(\"<style>.container { width:98% !important;}</style>\"))"
   ]
  },
  {
   "cell_type": "code",
   "execution_count": 3,
   "metadata": {},
   "outputs": [],
   "source": [
    "def DarkConv(inputs, filters, kernel_size, layer_idx, name, strides=(1, 1), padding=\"SAME\"):\n",
    "    layer_name = \"{}_layer_{}\".format(name, str(layer_idx))\n",
    "    inputs = Conv2D(filters, kernel_size=kernel_size, strides=strides, padding=padding, use_bias=False, \n",
    "                    name=layer_name+\"_Conv\")(inputs)\n",
    "    inputs = BatchNormalization(momentum=0.9, epsilon=1e-05, name=layer_name+\"_BN\")(inputs)\n",
    "    inputs = LeakyReLU(alpha=0.1, name=layer_name+\"_Activation\")(inputs)\n",
    "    return inputs"
   ]
  },
  {
   "cell_type": "code",
   "execution_count": 4,
   "metadata": {},
   "outputs": [],
   "source": [
    "def DarkPool(inputs, filters, layer_idx, name, strides=(2, 2), padding=\"VALID\"):\n",
    "    layer_name = \"{}_layer_{}\".format(name, str(layer_idx))\n",
    "    inputs = tf.keras.layers.ZeroPadding2D(((1, 0), (1, 0)), name=layer_name)(inputs)\n",
    "    inputs = DarkConv(inputs, filters, (3, 3), layer_idx, name, strides, padding)\n",
    "    return inputs"
   ]
  },
  {
   "cell_type": "code",
   "execution_count": 5,
   "metadata": {},
   "outputs": [],
   "source": [
    "def ResidualBlock(inputs, filters, layer_idx, name, strides=(1, 1), padding=\"SAME\"):\n",
    "    layer1, layer2 = layer_idx\n",
    "    shortcut = inputs\n",
    "    inputs = DarkConv(inputs, filters   , (1, 1), layer1, name)\n",
    "    inputs = DarkConv(inputs, filters*2 , (3, 3), layer2, name)\n",
    "    inputs = shortcut + inputs\n",
    "    return inputs"
   ]
  },
  {
   "cell_type": "code",
   "execution_count": null,
   "metadata": {},
   "outputs": [],
   "source": [
    "def Darknet53():\n",
    "    inputs = tf.keras.Input(shape=(256, 256, 3,), name=\"Input_stage\")\n",
    "\n",
    "    x = DarkConv(inputs, 32, (3, 3), 1, \"stage0\")\n",
    "    x = DarkPool(x , 64,  2, \"stage0\")\n",
    "\n",
    "    x = ResidualBlock(x, 32, [3, 4], \"stage1\")\n",
    "    x = DarkPool(x , 128, 5, \"stage1\")\n",
    "\n",
    "    x = ResidualBlock(x, 64, [6, 7], \"stage2\")\n",
    "    x = ResidualBlock(x, 64, [8, 9], \"stage2\")\n",
    "    x = DarkPool(x , 256, 10, \"stage2\")\n",
    "\n",
    "    x = ResidualBlock(x, 128, [11, 12], \"stage3\")\n",
    "    x = ResidualBlock(x, 128, [13, 14], \"stage3\")\n",
    "    x = ResidualBlock(x, 128, [15, 16], \"stage3\")\n",
    "    x = ResidualBlock(x, 128, [17, 18], \"stage3\")\n",
    "    x = ResidualBlock(x, 128, [19, 20], \"stage3\")\n",
    "    x = ResidualBlock(x, 128, [21, 22], \"stage3\")\n",
    "    x = ResidualBlock(x, 128, [23, 24], \"stage3\")\n",
    "    x = ResidualBlock(x, 128, [25, 26], \"stage3\")\n",
    "    x = DarkPool(x , 512, 27, \"stage3\")\n",
    "\n",
    "    x = ResidualBlock(x, 256, [28, 29], \"stage4\")\n",
    "    x = ResidualBlock(x, 256, [30, 31], \"stage4\")\n",
    "    x = ResidualBlock(x, 256, [32, 33], \"stage4\")\n",
    "    x = ResidualBlock(x, 256, [34, 35], \"stage4\")\n",
    "    x = ResidualBlock(x, 256, [36, 37], \"stage4\")\n",
    "    x = ResidualBlock(x, 256, [38, 39], \"stage4\")\n",
    "    x = ResidualBlock(x, 256, [40, 41], \"stage4\")\n",
    "    x = ResidualBlock(x, 256, [42, 43], \"stage4\")\n",
    "    x = DarkPool(x , 1024, 44, \"stage4\")\n",
    "\n",
    "    x = ResidualBlock(x, 512, [45, 46], \"stage5\")\n",
    "    x = ResidualBlock(x, 512, [47, 48], \"stage5\")\n",
    "    x = ResidualBlock(x, 512, [49, 50], \"stage5\")\n",
    "    x = ResidualBlock(x, 512, [51, 52], \"stage5\")\n",
    "\n",
    "    x = tf.keras.layers.GlobalAveragePooling2D(name=\"stage6_Average_Pooling\")(x)\n",
    "\n",
    "    x = tf.keras.layers.Dense(1000, activation=None, name=\"stage6_layer_53_Dense\", use_bias=True)(x)\n",
    "    x = tf.keras.layers.Softmax()(x)\n",
    "    model = tf.keras.Model(inputs, x)\n",
    "    return model\n"
   ]
  },
  {
   "cell_type": "code",
   "execution_count": null,
   "metadata": {},
   "outputs": [],
   "source": []
  },
  {
   "cell_type": "code",
   "execution_count": 6,
   "metadata": {},
   "outputs": [],
   "source": [
    "inputs = tf.keras.Input(shape=(256, 256, 3,), name=\"Input_stage\")\n",
    "\n",
    "x = DarkConv(inputs, 32, (3, 3), 1, \"stage0\")\n",
    "x = DarkPool(x , 64,  2, \"stage0\")\n",
    "\n",
    "x = ResidualBlock(x, 32, [3, 4], \"stage1\")\n",
    "x = DarkPool(x , 128, 5, \"stage1\")\n",
    "\n",
    "x = ResidualBlock(x, 64, [6, 7], \"stage2\")\n",
    "x = ResidualBlock(x, 64, [8, 9], \"stage2\")\n",
    "x = DarkPool(x , 256, 10, \"stage2\")\n",
    "\n",
    "x = ResidualBlock(x, 128, [11, 12], \"stage3\")\n",
    "x = ResidualBlock(x, 128, [13, 14], \"stage3\")\n",
    "x = ResidualBlock(x, 128, [15, 16], \"stage3\")\n",
    "x = ResidualBlock(x, 128, [17, 18], \"stage3\")\n",
    "x = ResidualBlock(x, 128, [19, 20], \"stage3\")\n",
    "x = ResidualBlock(x, 128, [21, 22], \"stage3\")\n",
    "x = ResidualBlock(x, 128, [23, 24], \"stage3\")\n",
    "x = ResidualBlock(x, 128, [25, 26], \"stage3\")\n",
    "x = DarkPool(x , 512, 27, \"stage3\")\n",
    "\n",
    "x = ResidualBlock(x, 256, [28, 29], \"stage4\")\n",
    "x = ResidualBlock(x, 256, [30, 31], \"stage4\")\n",
    "x = ResidualBlock(x, 256, [32, 33], \"stage4\")\n",
    "x = ResidualBlock(x, 256, [34, 35], \"stage4\")\n",
    "x = ResidualBlock(x, 256, [36, 37], \"stage4\")\n",
    "x = ResidualBlock(x, 256, [38, 39], \"stage4\")\n",
    "x = ResidualBlock(x, 256, [40, 41], \"stage4\")\n",
    "x = ResidualBlock(x, 256, [42, 43], \"stage4\")\n",
    "x = DarkPool(x , 1024, 44, \"stage4\")\n",
    "\n",
    "x = ResidualBlock(x, 512, [45, 46], \"stage5\")\n",
    "x = ResidualBlock(x, 512, [47, 48], \"stage5\")\n",
    "x = ResidualBlock(x, 512, [49, 50], \"stage5\")\n",
    "x = ResidualBlock(x, 512, [51, 52], \"stage5\")\n",
    "\n",
    "x = tf.keras.layers.GlobalAveragePooling2D(name=\"stage6_Average_Pooling\")(x)\n",
    "\n",
    "x = tf.keras.layers.Dense(1000, activation=None, name=\"stage5_layer_53_Dense\", use_bias=True)(x)\n",
    "x = tf.keras.layers.Softmax()(x)\n"
   ]
  },
  {
   "cell_type": "code",
   "execution_count": 7,
   "metadata": {},
   "outputs": [],
   "source": [
    "model = tf.keras.Model(inputs, x)"
   ]
  },
  {
   "cell_type": "code",
   "execution_count": null,
   "metadata": {},
   "outputs": [],
   "source": []
  },
  {
   "cell_type": "code",
   "execution_count": null,
   "metadata": {},
   "outputs": [],
   "source": []
  }
 ],
 "metadata": {
  "kernelspec": {
   "display_name": "Python 3",
   "language": "python",
   "name": "python3"
  },
  "language_info": {
   "codemirror_mode": {
    "name": "ipython",
    "version": 3
   },
   "file_extension": ".py",
   "mimetype": "text/x-python",
   "name": "python",
   "nbconvert_exporter": "python",
   "pygments_lexer": "ipython3",
   "version": "3.7.6"
  }
 },
 "nbformat": 4,
 "nbformat_minor": 2
}
